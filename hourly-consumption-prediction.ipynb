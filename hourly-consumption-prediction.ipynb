{
 "cells": [
  {
   "cell_type": "code",
   "execution_count": 1,
   "id": "julian-alexander",
   "metadata": {
    "_cell_guid": "b1076dfc-b9ad-4769-8c92-a6c4dae69d19",
    "_uuid": "8f2839f25d086af736a60e9eeb907d3b93b6e0e5",
    "execution": {
     "iopub.execute_input": "2021-04-03T07:56:30.971537Z",
     "iopub.status.busy": "2021-04-03T07:56:30.970994Z",
     "iopub.status.idle": "2021-04-03T07:56:30.994707Z",
     "shell.execute_reply": "2021-04-03T07:56:30.994068Z"
    },
    "papermill": {
     "duration": 0.048274,
     "end_time": "2021-04-03T07:56:30.994836",
     "exception": false,
     "start_time": "2021-04-03T07:56:30.946562",
     "status": "completed"
    },
    "tags": []
   },
   "outputs": [
    {
     "name": "stdout",
     "output_type": "stream",
     "text": [
      "/kaggle/input/hourly-energy-consumption/est_hourly.paruqet\n",
      "/kaggle/input/hourly-energy-consumption/DOM_hourly.csv\n",
      "/kaggle/input/hourly-energy-consumption/EKPC_hourly.csv\n",
      "/kaggle/input/hourly-energy-consumption/DUQ_hourly.csv\n",
      "/kaggle/input/hourly-energy-consumption/DAYTON_hourly.csv\n",
      "/kaggle/input/hourly-energy-consumption/PJME_hourly.csv\n",
      "/kaggle/input/hourly-energy-consumption/PJM_Load_hourly.csv\n",
      "/kaggle/input/hourly-energy-consumption/NI_hourly.csv\n",
      "/kaggle/input/hourly-energy-consumption/FE_hourly.csv\n",
      "/kaggle/input/hourly-energy-consumption/COMED_hourly.csv\n",
      "/kaggle/input/hourly-energy-consumption/AEP_hourly.csv\n",
      "/kaggle/input/hourly-energy-consumption/pjm_hourly_est.csv\n",
      "/kaggle/input/hourly-energy-consumption/DEOK_hourly.csv\n",
      "/kaggle/input/hourly-energy-consumption/PJMW_hourly.csv\n"
     ]
    }
   ],
   "source": [
    "# This Python 3 environment comes with many helpful analytics libraries installed\n",
    "# It is defined by the kaggle/python Docker image: https://github.com/kaggle/docker-python\n",
    "# For example, here's several helpful packages to load\n",
    "\n",
    "import numpy as np # linear algebra\n",
    "import pandas as pd # data processing, CSV file I/O (e.g. pd.read_csv)\n",
    "\n",
    "# Input data files are available in the read-only \"../input/\" directory\n",
    "# For example, running this (by clicking run or pressing Shift+Enter) will list all files under the input directory\n",
    "\n",
    "import os\n",
    "for dirname, _, filenames in os.walk('/kaggle/input'):\n",
    "    for filename in filenames:\n",
    "        print(os.path.join(dirname, filename))\n",
    "\n",
    "# You can write up to 20GB to the current directory (/kaggle/working/) that gets preserved as output when you create a version using \"Save & Run All\" \n",
    "# You can also write temporary files to /kaggle/temp/, but they won't be saved outside of the current session"
   ]
  },
  {
   "cell_type": "code",
   "execution_count": 2,
   "id": "analyzed-restriction",
   "metadata": {
    "execution": {
     "iopub.execute_input": "2021-04-03T07:56:31.035077Z",
     "iopub.status.busy": "2021-04-03T07:56:31.034422Z",
     "iopub.status.idle": "2021-04-03T07:56:36.212100Z",
     "shell.execute_reply": "2021-04-03T07:56:36.211420Z"
    },
    "papermill": {
     "duration": 5.199748,
     "end_time": "2021-04-03T07:56:36.212289",
     "exception": false,
     "start_time": "2021-04-03T07:56:31.012541",
     "status": "completed"
    },
    "tags": []
   },
   "outputs": [],
   "source": [
    "import pandas as pd\n",
    "import datetime as dt\n",
    "import seaborn as sns\n",
    "from keras.layers import Dense,Dropout,SimpleRNN,LSTM\n",
    "from keras.models import Sequential\n",
    "import keras\n",
    "import tensorflow as tf\n",
    "import pandas as pd\n",
    "import numpy as np\n",
    "import matplotlib.pyplot as plt\n",
    "import sklearn.preprocessing"
   ]
  },
  {
   "cell_type": "code",
   "execution_count": 3,
   "id": "micro-warning",
   "metadata": {
    "execution": {
     "iopub.execute_input": "2021-04-03T07:56:36.291199Z",
     "iopub.status.busy": "2021-04-03T07:56:36.290500Z",
     "iopub.status.idle": "2021-04-03T07:56:36.449422Z",
     "shell.execute_reply": "2021-04-03T07:56:36.450503Z"
    },
    "papermill": {
     "duration": 0.208214,
     "end_time": "2021-04-03T07:56:36.450703",
     "exception": false,
     "start_time": "2021-04-03T07:56:36.242489",
     "status": "completed"
    },
    "tags": []
   },
   "outputs": [],
   "source": [
    "data=pd.read_csv(\"/kaggle/input/hourly-energy-consumption/AEP_hourly.csv\")"
   ]
  },
  {
   "cell_type": "code",
   "execution_count": 4,
   "id": "regional-purpose",
   "metadata": {
    "execution": {
     "iopub.execute_input": "2021-04-03T07:56:36.519235Z",
     "iopub.status.busy": "2021-04-03T07:56:36.518526Z",
     "iopub.status.idle": "2021-04-03T07:56:36.538681Z",
     "shell.execute_reply": "2021-04-03T07:56:36.539156Z"
    },
    "papermill": {
     "duration": 0.063179,
     "end_time": "2021-04-03T07:56:36.539347",
     "exception": false,
     "start_time": "2021-04-03T07:56:36.476168",
     "status": "completed"
    },
    "tags": []
   },
   "outputs": [
    {
     "data": {
      "text/html": [
       "<div>\n",
       "<style scoped>\n",
       "    .dataframe tbody tr th:only-of-type {\n",
       "        vertical-align: middle;\n",
       "    }\n",
       "\n",
       "    .dataframe tbody tr th {\n",
       "        vertical-align: top;\n",
       "    }\n",
       "\n",
       "    .dataframe thead th {\n",
       "        text-align: right;\n",
       "    }\n",
       "</style>\n",
       "<table border=\"1\" class=\"dataframe\">\n",
       "  <thead>\n",
       "    <tr style=\"text-align: right;\">\n",
       "      <th></th>\n",
       "      <th>Datetime</th>\n",
       "      <th>AEP_MW</th>\n",
       "    </tr>\n",
       "  </thead>\n",
       "  <tbody>\n",
       "    <tr>\n",
       "      <th>0</th>\n",
       "      <td>2004-12-31 01:00:00</td>\n",
       "      <td>13478.0</td>\n",
       "    </tr>\n",
       "    <tr>\n",
       "      <th>1</th>\n",
       "      <td>2004-12-31 02:00:00</td>\n",
       "      <td>12865.0</td>\n",
       "    </tr>\n",
       "    <tr>\n",
       "      <th>2</th>\n",
       "      <td>2004-12-31 03:00:00</td>\n",
       "      <td>12577.0</td>\n",
       "    </tr>\n",
       "    <tr>\n",
       "      <th>3</th>\n",
       "      <td>2004-12-31 04:00:00</td>\n",
       "      <td>12517.0</td>\n",
       "    </tr>\n",
       "    <tr>\n",
       "      <th>4</th>\n",
       "      <td>2004-12-31 05:00:00</td>\n",
       "      <td>12670.0</td>\n",
       "    </tr>\n",
       "    <tr>\n",
       "      <th>...</th>\n",
       "      <td>...</td>\n",
       "      <td>...</td>\n",
       "    </tr>\n",
       "    <tr>\n",
       "      <th>121268</th>\n",
       "      <td>2018-01-01 20:00:00</td>\n",
       "      <td>21089.0</td>\n",
       "    </tr>\n",
       "    <tr>\n",
       "      <th>121269</th>\n",
       "      <td>2018-01-01 21:00:00</td>\n",
       "      <td>20999.0</td>\n",
       "    </tr>\n",
       "    <tr>\n",
       "      <th>121270</th>\n",
       "      <td>2018-01-01 22:00:00</td>\n",
       "      <td>20820.0</td>\n",
       "    </tr>\n",
       "    <tr>\n",
       "      <th>121271</th>\n",
       "      <td>2018-01-01 23:00:00</td>\n",
       "      <td>20415.0</td>\n",
       "    </tr>\n",
       "    <tr>\n",
       "      <th>121272</th>\n",
       "      <td>2018-01-02 00:00:00</td>\n",
       "      <td>19993.0</td>\n",
       "    </tr>\n",
       "  </tbody>\n",
       "</table>\n",
       "<p>121273 rows × 2 columns</p>\n",
       "</div>"
      ],
      "text/plain": [
       "                   Datetime   AEP_MW\n",
       "0       2004-12-31 01:00:00  13478.0\n",
       "1       2004-12-31 02:00:00  12865.0\n",
       "2       2004-12-31 03:00:00  12577.0\n",
       "3       2004-12-31 04:00:00  12517.0\n",
       "4       2004-12-31 05:00:00  12670.0\n",
       "...                     ...      ...\n",
       "121268  2018-01-01 20:00:00  21089.0\n",
       "121269  2018-01-01 21:00:00  20999.0\n",
       "121270  2018-01-01 22:00:00  20820.0\n",
       "121271  2018-01-01 23:00:00  20415.0\n",
       "121272  2018-01-02 00:00:00  19993.0\n",
       "\n",
       "[121273 rows x 2 columns]"
      ]
     },
     "execution_count": 4,
     "metadata": {},
     "output_type": "execute_result"
    }
   ],
   "source": [
    "data"
   ]
  },
  {
   "cell_type": "code",
   "execution_count": 5,
   "id": "broad-preview",
   "metadata": {
    "execution": {
     "iopub.execute_input": "2021-04-03T07:56:36.589054Z",
     "iopub.status.busy": "2021-04-03T07:56:36.588011Z",
     "iopub.status.idle": "2021-04-03T07:56:36.611059Z",
     "shell.execute_reply": "2021-04-03T07:56:36.611621Z"
    },
    "papermill": {
     "duration": 0.052109,
     "end_time": "2021-04-03T07:56:36.611801",
     "exception": false,
     "start_time": "2021-04-03T07:56:36.559692",
     "status": "completed"
    },
    "tags": []
   },
   "outputs": [
    {
     "data": {
      "text/html": [
       "<div>\n",
       "<style scoped>\n",
       "    .dataframe tbody tr th:only-of-type {\n",
       "        vertical-align: middle;\n",
       "    }\n",
       "\n",
       "    .dataframe tbody tr th {\n",
       "        vertical-align: top;\n",
       "    }\n",
       "\n",
       "    .dataframe thead th {\n",
       "        text-align: right;\n",
       "    }\n",
       "</style>\n",
       "<table border=\"1\" class=\"dataframe\">\n",
       "  <thead>\n",
       "    <tr style=\"text-align: right;\">\n",
       "      <th></th>\n",
       "      <th>AEP_MW</th>\n",
       "    </tr>\n",
       "  </thead>\n",
       "  <tbody>\n",
       "    <tr>\n",
       "      <th>count</th>\n",
       "      <td>121273.000000</td>\n",
       "    </tr>\n",
       "    <tr>\n",
       "      <th>mean</th>\n",
       "      <td>15499.513717</td>\n",
       "    </tr>\n",
       "    <tr>\n",
       "      <th>std</th>\n",
       "      <td>2591.399065</td>\n",
       "    </tr>\n",
       "    <tr>\n",
       "      <th>min</th>\n",
       "      <td>9581.000000</td>\n",
       "    </tr>\n",
       "    <tr>\n",
       "      <th>25%</th>\n",
       "      <td>13630.000000</td>\n",
       "    </tr>\n",
       "    <tr>\n",
       "      <th>50%</th>\n",
       "      <td>15310.000000</td>\n",
       "    </tr>\n",
       "    <tr>\n",
       "      <th>75%</th>\n",
       "      <td>17200.000000</td>\n",
       "    </tr>\n",
       "    <tr>\n",
       "      <th>max</th>\n",
       "      <td>25695.000000</td>\n",
       "    </tr>\n",
       "  </tbody>\n",
       "</table>\n",
       "</div>"
      ],
      "text/plain": [
       "              AEP_MW\n",
       "count  121273.000000\n",
       "mean    15499.513717\n",
       "std      2591.399065\n",
       "min      9581.000000\n",
       "25%     13630.000000\n",
       "50%     15310.000000\n",
       "75%     17200.000000\n",
       "max     25695.000000"
      ]
     },
     "execution_count": 5,
     "metadata": {},
     "output_type": "execute_result"
    }
   ],
   "source": [
    "data.describe()"
   ]
  },
  {
   "cell_type": "code",
   "execution_count": 6,
   "id": "registered-company",
   "metadata": {
    "execution": {
     "iopub.execute_input": "2021-04-03T07:56:36.689614Z",
     "iopub.status.busy": "2021-04-03T07:56:36.688786Z",
     "iopub.status.idle": "2021-04-03T07:56:36.701606Z",
     "shell.execute_reply": "2021-04-03T07:56:36.703046Z"
    },
    "papermill": {
     "duration": 0.061732,
     "end_time": "2021-04-03T07:56:36.703291",
     "exception": false,
     "start_time": "2021-04-03T07:56:36.641559",
     "status": "completed"
    },
    "tags": []
   },
   "outputs": [
    {
     "name": "stdout",
     "output_type": "stream",
     "text": [
      "<class 'pandas.core.frame.DataFrame'>\n",
      "RangeIndex: 121273 entries, 0 to 121272\n",
      "Data columns (total 2 columns):\n",
      " #   Column    Non-Null Count   Dtype  \n",
      "---  ------    --------------   -----  \n",
      " 0   Datetime  121273 non-null  object \n",
      " 1   AEP_MW    121273 non-null  float64\n",
      "dtypes: float64(1), object(1)\n",
      "memory usage: 1.9+ MB\n"
     ]
    }
   ],
   "source": [
    "data.info()"
   ]
  },
  {
   "cell_type": "code",
   "execution_count": 7,
   "id": "scientific-packing",
   "metadata": {
    "execution": {
     "iopub.execute_input": "2021-04-03T07:56:36.785684Z",
     "iopub.status.busy": "2021-04-03T07:56:36.784968Z",
     "iopub.status.idle": "2021-04-03T07:56:36.790925Z",
     "shell.execute_reply": "2021-04-03T07:56:36.791829Z"
    },
    "papermill": {
     "duration": 0.058205,
     "end_time": "2021-04-03T07:56:36.791997",
     "exception": false,
     "start_time": "2021-04-03T07:56:36.733792",
     "status": "completed"
    },
    "tags": []
   },
   "outputs": [
    {
     "data": {
      "text/plain": [
       "Datetime    0\n",
       "AEP_MW      0\n",
       "dtype: int64"
      ]
     },
     "execution_count": 7,
     "metadata": {},
     "output_type": "execute_result"
    }
   ],
   "source": [
    "data.isnull().sum()"
   ]
  },
  {
   "cell_type": "code",
   "execution_count": 8,
   "id": "interested-tulsa",
   "metadata": {
    "execution": {
     "iopub.execute_input": "2021-04-03T07:56:36.862802Z",
     "iopub.status.busy": "2021-04-03T07:56:36.861965Z",
     "iopub.status.idle": "2021-04-03T07:56:36.864087Z",
     "shell.execute_reply": "2021-04-03T07:56:36.863487Z"
    },
    "papermill": {
     "duration": 0.043098,
     "end_time": "2021-04-03T07:56:36.864245",
     "exception": false,
     "start_time": "2021-04-03T07:56:36.821147",
     "status": "completed"
    },
    "tags": []
   },
   "outputs": [],
   "source": [
    "#We have 24 data points for each day\n",
    "#I will try to predict hourly power consumptionfor any day provided we have data for n(3,5,7,10 or any value which gives better results) days prior to it\n"
   ]
  },
  {
   "cell_type": "code",
   "execution_count": 9,
   "id": "confirmed-tunnel",
   "metadata": {
    "execution": {
     "iopub.execute_input": "2021-04-03T07:56:36.928704Z",
     "iopub.status.busy": "2021-04-03T07:56:36.927701Z",
     "iopub.status.idle": "2021-04-03T07:56:36.932685Z",
     "shell.execute_reply": "2021-04-03T07:56:36.932181Z"
    },
    "papermill": {
     "duration": 0.029531,
     "end_time": "2021-04-03T07:56:36.932789",
     "exception": false,
     "start_time": "2021-04-03T07:56:36.903258",
     "status": "completed"
    },
    "tags": []
   },
   "outputs": [],
   "source": [
    "#rescaling our data\n",
    "scaler = sklearn.preprocessing.MinMaxScaler()\n",
    "\n",
    "data[\"normalised_data\"]=scaler.fit_transform(data['AEP_MW'].values.reshape(-1,1))"
   ]
  },
  {
   "cell_type": "code",
   "execution_count": 10,
   "id": "exposed-malawi",
   "metadata": {
    "execution": {
     "iopub.execute_input": "2021-04-03T07:56:36.977060Z",
     "iopub.status.busy": "2021-04-03T07:56:36.976273Z",
     "iopub.status.idle": "2021-04-03T07:56:36.988168Z",
     "shell.execute_reply": "2021-04-03T07:56:36.987611Z"
    },
    "papermill": {
     "duration": 0.035934,
     "end_time": "2021-04-03T07:56:36.988322",
     "exception": false,
     "start_time": "2021-04-03T07:56:36.952388",
     "status": "completed"
    },
    "tags": []
   },
   "outputs": [
    {
     "data": {
      "text/html": [
       "<div>\n",
       "<style scoped>\n",
       "    .dataframe tbody tr th:only-of-type {\n",
       "        vertical-align: middle;\n",
       "    }\n",
       "\n",
       "    .dataframe tbody tr th {\n",
       "        vertical-align: top;\n",
       "    }\n",
       "\n",
       "    .dataframe thead th {\n",
       "        text-align: right;\n",
       "    }\n",
       "</style>\n",
       "<table border=\"1\" class=\"dataframe\">\n",
       "  <thead>\n",
       "    <tr style=\"text-align: right;\">\n",
       "      <th></th>\n",
       "      <th>Datetime</th>\n",
       "      <th>AEP_MW</th>\n",
       "      <th>normalised_data</th>\n",
       "    </tr>\n",
       "  </thead>\n",
       "  <tbody>\n",
       "    <tr>\n",
       "      <th>0</th>\n",
       "      <td>2004-12-31 01:00:00</td>\n",
       "      <td>13478.0</td>\n",
       "      <td>0.241839</td>\n",
       "    </tr>\n",
       "    <tr>\n",
       "      <th>1</th>\n",
       "      <td>2004-12-31 02:00:00</td>\n",
       "      <td>12865.0</td>\n",
       "      <td>0.203798</td>\n",
       "    </tr>\n",
       "    <tr>\n",
       "      <th>2</th>\n",
       "      <td>2004-12-31 03:00:00</td>\n",
       "      <td>12577.0</td>\n",
       "      <td>0.185925</td>\n",
       "    </tr>\n",
       "    <tr>\n",
       "      <th>3</th>\n",
       "      <td>2004-12-31 04:00:00</td>\n",
       "      <td>12517.0</td>\n",
       "      <td>0.182202</td>\n",
       "    </tr>\n",
       "    <tr>\n",
       "      <th>4</th>\n",
       "      <td>2004-12-31 05:00:00</td>\n",
       "      <td>12670.0</td>\n",
       "      <td>0.191697</td>\n",
       "    </tr>\n",
       "    <tr>\n",
       "      <th>...</th>\n",
       "      <td>...</td>\n",
       "      <td>...</td>\n",
       "      <td>...</td>\n",
       "    </tr>\n",
       "    <tr>\n",
       "      <th>121268</th>\n",
       "      <td>2018-01-01 20:00:00</td>\n",
       "      <td>21089.0</td>\n",
       "      <td>0.714162</td>\n",
       "    </tr>\n",
       "    <tr>\n",
       "      <th>121269</th>\n",
       "      <td>2018-01-01 21:00:00</td>\n",
       "      <td>20999.0</td>\n",
       "      <td>0.708576</td>\n",
       "    </tr>\n",
       "    <tr>\n",
       "      <th>121270</th>\n",
       "      <td>2018-01-01 22:00:00</td>\n",
       "      <td>20820.0</td>\n",
       "      <td>0.697468</td>\n",
       "    </tr>\n",
       "    <tr>\n",
       "      <th>121271</th>\n",
       "      <td>2018-01-01 23:00:00</td>\n",
       "      <td>20415.0</td>\n",
       "      <td>0.672335</td>\n",
       "    </tr>\n",
       "    <tr>\n",
       "      <th>121272</th>\n",
       "      <td>2018-01-02 00:00:00</td>\n",
       "      <td>19993.0</td>\n",
       "      <td>0.646146</td>\n",
       "    </tr>\n",
       "  </tbody>\n",
       "</table>\n",
       "<p>121273 rows × 3 columns</p>\n",
       "</div>"
      ],
      "text/plain": [
       "                   Datetime   AEP_MW  normalised_data\n",
       "0       2004-12-31 01:00:00  13478.0         0.241839\n",
       "1       2004-12-31 02:00:00  12865.0         0.203798\n",
       "2       2004-12-31 03:00:00  12577.0         0.185925\n",
       "3       2004-12-31 04:00:00  12517.0         0.182202\n",
       "4       2004-12-31 05:00:00  12670.0         0.191697\n",
       "...                     ...      ...              ...\n",
       "121268  2018-01-01 20:00:00  21089.0         0.714162\n",
       "121269  2018-01-01 21:00:00  20999.0         0.708576\n",
       "121270  2018-01-01 22:00:00  20820.0         0.697468\n",
       "121271  2018-01-01 23:00:00  20415.0         0.672335\n",
       "121272  2018-01-02 00:00:00  19993.0         0.646146\n",
       "\n",
       "[121273 rows x 3 columns]"
      ]
     },
     "execution_count": 10,
     "metadata": {},
     "output_type": "execute_result"
    }
   ],
   "source": [
    "data"
   ]
  },
  {
   "cell_type": "code",
   "execution_count": 11,
   "id": "smooth-helicopter",
   "metadata": {
    "execution": {
     "iopub.execute_input": "2021-04-03T07:56:37.033853Z",
     "iopub.status.busy": "2021-04-03T07:56:37.033181Z",
     "iopub.status.idle": "2021-04-03T07:56:37.036882Z",
     "shell.execute_reply": "2021-04-03T07:56:37.036432Z"
    },
    "papermill": {
     "duration": 0.028569,
     "end_time": "2021-04-03T07:56:37.036998",
     "exception": false,
     "start_time": "2021-04-03T07:56:37.008429",
     "status": "completed"
    },
    "tags": []
   },
   "outputs": [],
   "source": [
    "n=7 #Number of prior days you want to pass to the LSTM model\n",
    "m=1 #Number of days for which you want to predict\n",
    "Train=data[\"normalised_data\"][:-(24*n+24*m)]\n",
    "Test=data[\"normalised_data\"].tail(24*n+24*m)\n",
    "Test = Test.reset_index(drop=True) # resetting indices for test because we used .tail(), which keeps old indices in place"
   ]
  },
  {
   "cell_type": "code",
   "execution_count": 12,
   "id": "supposed-disclaimer",
   "metadata": {
    "execution": {
     "iopub.execute_input": "2021-04-03T07:56:37.082916Z",
     "iopub.status.busy": "2021-04-03T07:56:37.082045Z",
     "iopub.status.idle": "2021-04-03T07:56:37.086016Z",
     "shell.execute_reply": "2021-04-03T07:56:37.085581Z"
    },
    "papermill": {
     "duration": 0.028856,
     "end_time": "2021-04-03T07:56:37.086120",
     "exception": false,
     "start_time": "2021-04-03T07:56:37.057264",
     "status": "completed"
    },
    "tags": []
   },
   "outputs": [
    {
     "data": {
      "text/plain": [
       "0         0.241839\n",
       "1         0.203798\n",
       "2         0.185925\n",
       "3         0.182202\n",
       "4         0.191697\n",
       "            ...   \n",
       "121076    0.490815\n",
       "121077    0.489512\n",
       "121078    0.467358\n",
       "121079    0.428261\n",
       "121080    0.388296\n",
       "Name: normalised_data, Length: 121081, dtype: float64"
      ]
     },
     "execution_count": 12,
     "metadata": {},
     "output_type": "execute_result"
    }
   ],
   "source": [
    "Train"
   ]
  },
  {
   "cell_type": "code",
   "execution_count": 13,
   "id": "secret-animation",
   "metadata": {
    "execution": {
     "iopub.execute_input": "2021-04-03T07:56:37.132821Z",
     "iopub.status.busy": "2021-04-03T07:56:37.132008Z",
     "iopub.status.idle": "2021-04-03T07:56:37.136183Z",
     "shell.execute_reply": "2021-04-03T07:56:37.135758Z"
    },
    "papermill": {
     "duration": 0.029196,
     "end_time": "2021-04-03T07:56:37.136310",
     "exception": false,
     "start_time": "2021-04-03T07:56:37.107114",
     "status": "completed"
    },
    "tags": []
   },
   "outputs": [
    {
     "data": {
      "text/plain": [
       "(192,)"
      ]
     },
     "execution_count": 13,
     "metadata": {},
     "output_type": "execute_result"
    }
   ],
   "source": [
    "Test.shape"
   ]
  },
  {
   "cell_type": "code",
   "execution_count": 14,
   "id": "canadian-advocacy",
   "metadata": {
    "execution": {
     "iopub.execute_input": "2021-04-03T07:56:37.222616Z",
     "iopub.status.busy": "2021-04-03T07:56:37.202199Z",
     "iopub.status.idle": "2021-04-03T07:56:46.690452Z",
     "shell.execute_reply": "2021-04-03T07:56:46.689977Z"
    },
    "papermill": {
     "duration": 9.532115,
     "end_time": "2021-04-03T07:56:46.690584",
     "exception": false,
     "start_time": "2021-04-03T07:56:37.158469",
     "status": "completed"
    },
    "tags": []
   },
   "outputs": [
    {
     "name": "stdout",
     "output_type": "stream",
     "text": [
      "(120913, 168)\n",
      "(120913,)\n"
     ]
    }
   ],
   "source": [
    "#Preprocessing our dataset before feeding into LSTM\n",
    "\n",
    "X_Train = []\n",
    "Y_Train = []\n",
    "\n",
    "for i in range(24*n, Train.shape[0]):\n",
    "    \n",
    "    X_Train.append(Train[i-24*n:i])\n",
    "    \n",
    "    \n",
    "    Y_Train.append(Train[i])\n",
    "\n",
    "# Convert into Numpy Array\n",
    "X_Train = np.array(X_Train)\n",
    "Y_Train = np.array(Y_Train)\n",
    "\n",
    "print(X_Train.shape)\n",
    "print(Y_Train.shape)"
   ]
  },
  {
   "cell_type": "code",
   "execution_count": 15,
   "id": "accepted-warehouse",
   "metadata": {
    "execution": {
     "iopub.execute_input": "2021-04-03T07:56:46.737986Z",
     "iopub.status.busy": "2021-04-03T07:56:46.737170Z",
     "iopub.status.idle": "2021-04-03T07:56:46.740608Z",
     "shell.execute_reply": "2021-04-03T07:56:46.741103Z"
    },
    "papermill": {
     "duration": 0.029264,
     "end_time": "2021-04-03T07:56:46.741247",
     "exception": false,
     "start_time": "2021-04-03T07:56:46.711983",
     "status": "completed"
    },
    "tags": []
   },
   "outputs": [
    {
     "data": {
      "text/plain": [
       "(120913, 168, 1)"
      ]
     },
     "execution_count": 15,
     "metadata": {},
     "output_type": "execute_result"
    }
   ],
   "source": [
    "X_Train = np.reshape(X_Train, newshape=(X_Train.shape[0], X_Train.shape[1], 1))\n",
    "X_Train.shape"
   ]
  },
  {
   "cell_type": "code",
   "execution_count": 16,
   "id": "unavailable-depression",
   "metadata": {
    "execution": {
     "iopub.execute_input": "2021-04-03T07:56:46.804170Z",
     "iopub.status.busy": "2021-04-03T07:56:46.803365Z",
     "iopub.status.idle": "2021-04-03T07:56:46.813008Z",
     "shell.execute_reply": "2021-04-03T07:56:46.813606Z"
    },
    "papermill": {
     "duration": 0.051287,
     "end_time": "2021-04-03T07:56:46.813824",
     "exception": false,
     "start_time": "2021-04-03T07:56:46.762537",
     "status": "completed"
    },
    "tags": []
   },
   "outputs": [
    {
     "name": "stdout",
     "output_type": "stream",
     "text": [
      "(24, 168)\n",
      "(24,)\n"
     ]
    }
   ],
   "source": [
    "X_Test = []\n",
    "Y_Test = []\n",
    "\n",
    "\n",
    "for i in range(24*n, Test.shape[0]):\n",
    "    \n",
    "    \n",
    "    X_Test.append(Test[i-24*n:i])\n",
    "    \n",
    "    \n",
    "    Y_Test.append(Test[i])\n",
    "\n",
    "# Convert into Numpy Array\n",
    "X_Test = np.array(X_Test)\n",
    "Y_Test = np.array(Y_Test)\n",
    "\n",
    "print(X_Test.shape)\n",
    "print(Y_Test.shape)\n"
   ]
  },
  {
   "cell_type": "code",
   "execution_count": 17,
   "id": "incomplete-champion",
   "metadata": {
    "execution": {
     "iopub.execute_input": "2021-04-03T07:56:46.906718Z",
     "iopub.status.busy": "2021-04-03T07:56:46.905743Z",
     "iopub.status.idle": "2021-04-03T07:56:46.915453Z",
     "shell.execute_reply": "2021-04-03T07:56:46.916144Z"
    },
    "papermill": {
     "duration": 0.054603,
     "end_time": "2021-04-03T07:56:46.916462",
     "exception": false,
     "start_time": "2021-04-03T07:56:46.861859",
     "status": "completed"
    },
    "tags": []
   },
   "outputs": [
    {
     "data": {
      "text/plain": [
       "(24, 168, 1)"
      ]
     },
     "execution_count": 17,
     "metadata": {},
     "output_type": "execute_result"
    }
   ],
   "source": [
    "X_Test = np.reshape(X_Test, newshape=(X_Test.shape[0], X_Test.shape[1], 1))\n",
    "X_Test.shape"
   ]
  },
  {
   "cell_type": "code",
   "execution_count": 18,
   "id": "closed-scanner",
   "metadata": {
    "execution": {
     "iopub.execute_input": "2021-04-03T07:56:47.003140Z",
     "iopub.status.busy": "2021-04-03T07:56:47.002320Z",
     "iopub.status.idle": "2021-04-03T07:56:50.890068Z",
     "shell.execute_reply": "2021-04-03T07:56:50.889340Z"
    },
    "papermill": {
     "duration": 3.932523,
     "end_time": "2021-04-03T07:56:50.890232",
     "exception": false,
     "start_time": "2021-04-03T07:56:46.957709",
     "status": "completed"
    },
    "tags": []
   },
   "outputs": [],
   "source": [
    "regressor = Sequential()\n",
    "\n",
    "# Adding the first LSTM layer and some Dropout regularisation\n",
    "regressor.add(LSTM(units = 512, return_sequences = True, input_shape = (X_Train.shape[1], 1),))\n",
    "#regressor.add(Dropout(0.2))\n",
    "\n",
    "# Adding a second LSTM layer and some Dropout regularisation\n",
    "regressor.add(LSTM(units = 256, return_sequences = True,))\n",
    "#regressor.add(Dropout(0.1))\n",
    "\n",
    "#Adding a third LSTM layer and some Dropout regularisation\n",
    "regressor.add(LSTM(units = 128, return_sequences = True,))\n",
    "#regressor.add(Dropout(0.05))\n",
    "\n",
    "# Adding a fourth LSTM layer and some Dropout regularisation\n",
    "regressor.add(LSTM(units = 64))\n",
    "#regressor.add(Dropout(0.2))\n",
    "regressor.add(Dense(256, activation='relu'))\n",
    "# Adding the output layer\n",
    "regressor.add(Dense(units = 1))\n",
    "\n",
    "# Compiling the RNN\n",
    "regressor.compile(optimizer = 'adam', loss = 'mean_squared_error')"
   ]
  },
  {
   "cell_type": "code",
   "execution_count": 19,
   "id": "composite-enough",
   "metadata": {
    "execution": {
     "iopub.execute_input": "2021-04-03T07:56:50.939184Z",
     "iopub.status.busy": "2021-04-03T07:56:50.938610Z",
     "iopub.status.idle": "2021-04-03T08:08:16.796110Z",
     "shell.execute_reply": "2021-04-03T08:08:16.795638Z"
    },
    "papermill": {
     "duration": 685.883497,
     "end_time": "2021-04-03T08:08:16.796288",
     "exception": false,
     "start_time": "2021-04-03T07:56:50.912791",
     "status": "completed"
    },
    "tags": []
   },
   "outputs": [
    {
     "name": "stdout",
     "output_type": "stream",
     "text": [
      "Epoch 1/10\n",
      "473/473 [==============================] - 75s 144ms/step - loss: 0.0149\n",
      "Epoch 2/10\n",
      "473/473 [==============================] - 68s 144ms/step - loss: 0.0023\n",
      "Epoch 3/10\n",
      "473/473 [==============================] - 68s 144ms/step - loss: 9.2416e-04\n",
      "Epoch 4/10\n",
      "473/473 [==============================] - 68s 143ms/step - loss: 5.1363e-04\n",
      "Epoch 5/10\n",
      "473/473 [==============================] - 68s 143ms/step - loss: 4.5979e-04\n",
      "Epoch 6/10\n",
      "473/473 [==============================] - 68s 143ms/step - loss: 4.0466e-04\n",
      "Epoch 7/10\n",
      "473/473 [==============================] - 68s 143ms/step - loss: 4.0013e-04\n",
      "Epoch 8/10\n",
      "473/473 [==============================] - 68s 144ms/step - loss: 3.6021e-04\n",
      "Epoch 9/10\n",
      "473/473 [==============================] - 68s 144ms/step - loss: 3.5340e-04\n",
      "Epoch 10/10\n",
      "473/473 [==============================] - 68s 143ms/step - loss: 3.7067e-04\n"
     ]
    },
    {
     "data": {
      "text/plain": [
       "<tensorflow.python.keras.callbacks.History at 0x7f6c718c1c10>"
      ]
     },
     "execution_count": 19,
     "metadata": {},
     "output_type": "execute_result"
    }
   ],
   "source": [
    "regressor.fit(X_Train, Y_Train, epochs = 10, batch_size = 256)"
   ]
  },
  {
   "cell_type": "code",
   "execution_count": 20,
   "id": "catholic-review",
   "metadata": {
    "execution": {
     "iopub.execute_input": "2021-04-03T08:08:19.277987Z",
     "iopub.status.busy": "2021-04-03T08:08:19.277185Z",
     "iopub.status.idle": "2021-04-03T08:08:20.586198Z",
     "shell.execute_reply": "2021-04-03T08:08:20.585710Z"
    },
    "papermill": {
     "duration": 2.574777,
     "end_time": "2021-04-03T08:08:20.586416",
     "exception": false,
     "start_time": "2021-04-03T08:08:18.011639",
     "status": "completed"
    },
    "tags": []
   },
   "outputs": [],
   "source": [
    "pred=regressor.predict(X_Test)"
   ]
  },
  {
   "cell_type": "code",
   "execution_count": 21,
   "id": "adequate-stream",
   "metadata": {
    "execution": {
     "iopub.execute_input": "2021-04-03T08:08:23.035586Z",
     "iopub.status.busy": "2021-04-03T08:08:23.034753Z",
     "iopub.status.idle": "2021-04-03T08:08:23.038631Z",
     "shell.execute_reply": "2021-04-03T08:08:23.039062Z"
    },
    "papermill": {
     "duration": 1.232296,
     "end_time": "2021-04-03T08:08:23.039205",
     "exception": false,
     "start_time": "2021-04-03T08:08:21.806909",
     "status": "completed"
    },
    "tags": []
   },
   "outputs": [
    {
     "data": {
      "text/plain": [
       "array([0.55399032, 0.55969964, 0.55789996, 0.56503661, 0.57906169,\n",
       "       0.59780315, 0.62082661, 0.63950602, 0.64242274, 0.63708576,\n",
       "       0.62858384, 0.61263498, 0.58756361, 0.56820156, 0.56087874,\n",
       "       0.5653469 , 0.59128708, 0.66389475, 0.70398411, 0.7141616 ,\n",
       "       0.70857639, 0.69746804, 0.67233462, 0.64614621])"
      ]
     },
     "execution_count": 21,
     "metadata": {},
     "output_type": "execute_result"
    }
   ],
   "source": [
    "Y_Test"
   ]
  },
  {
   "cell_type": "code",
   "execution_count": 22,
   "id": "numerical-adobe",
   "metadata": {
    "execution": {
     "iopub.execute_input": "2021-04-03T08:08:25.518007Z",
     "iopub.status.busy": "2021-04-03T08:08:25.517401Z",
     "iopub.status.idle": "2021-04-03T08:08:25.524899Z",
     "shell.execute_reply": "2021-04-03T08:08:25.524435Z"
    },
    "papermill": {
     "duration": 1.235613,
     "end_time": "2021-04-03T08:08:25.525024",
     "exception": false,
     "start_time": "2021-04-03T08:08:24.289411",
     "status": "completed"
    },
    "tags": []
   },
   "outputs": [
    {
     "data": {
      "text/plain": [
       "MinMaxScaler()"
      ]
     },
     "execution_count": 22,
     "metadata": {},
     "output_type": "execute_result"
    }
   ],
   "source": [
    "scaler.fit(data[\"AEP_MW\"].values.reshape(-1,1))"
   ]
  },
  {
   "cell_type": "code",
   "execution_count": 23,
   "id": "secure-ballet",
   "metadata": {
    "execution": {
     "iopub.execute_input": "2021-04-03T08:08:28.033108Z",
     "iopub.status.busy": "2021-04-03T08:08:28.032546Z",
     "iopub.status.idle": "2021-04-03T08:08:28.036037Z",
     "shell.execute_reply": "2021-04-03T08:08:28.035508Z"
    },
    "papermill": {
     "duration": 1.253263,
     "end_time": "2021-04-03T08:08:28.036151",
     "exception": false,
     "start_time": "2021-04-03T08:08:26.782888",
     "status": "completed"
    },
    "tags": []
   },
   "outputs": [],
   "source": [
    "rescaled=scaler.inverse_transform(pred)"
   ]
  },
  {
   "cell_type": "code",
   "execution_count": 24,
   "id": "opposed-discretion",
   "metadata": {
    "execution": {
     "iopub.execute_input": "2021-04-03T08:08:30.489014Z",
     "iopub.status.busy": "2021-04-03T08:08:30.488136Z",
     "iopub.status.idle": "2021-04-03T08:08:30.491561Z",
     "shell.execute_reply": "2021-04-03T08:08:30.491998Z"
    },
    "papermill": {
     "duration": 1.228015,
     "end_time": "2021-04-03T08:08:30.492149",
     "exception": false,
     "start_time": "2021-04-03T08:08:29.264134",
     "status": "completed"
    },
    "tags": []
   },
   "outputs": [
    {
     "data": {
      "text/plain": [
       "array([[18230.16 ],\n",
       "       [17977.959],\n",
       "       [18543.744],\n",
       "       [18694.545],\n",
       "       [19023.941],\n",
       "       [19524.697],\n",
       "       [19945.377],\n",
       "       [20089.37 ],\n",
       "       [19960.486],\n",
       "       [19816.82 ],\n",
       "       [19572.572],\n",
       "       [19263.297],\n",
       "       [19031.219],\n",
       "       [18541.488],\n",
       "       [18400.127],\n",
       "       [18547.795],\n",
       "       [19003.27 ],\n",
       "       [19866.19 ],\n",
       "       [20989.48 ],\n",
       "       [20875.342],\n",
       "       [20971.275],\n",
       "       [20742.975],\n",
       "       [20301.123],\n",
       "       [19620.346]], dtype=float32)"
      ]
     },
     "execution_count": 24,
     "metadata": {},
     "output_type": "execute_result"
    }
   ],
   "source": [
    "rescaled"
   ]
  },
  {
   "cell_type": "code",
   "execution_count": 25,
   "id": "excess-grammar",
   "metadata": {
    "execution": {
     "iopub.execute_input": "2021-04-03T08:08:33.246754Z",
     "iopub.status.busy": "2021-04-03T08:08:33.245729Z",
     "iopub.status.idle": "2021-04-03T08:08:33.249375Z",
     "shell.execute_reply": "2021-04-03T08:08:33.248886Z"
    },
    "papermill": {
     "duration": 1.26355,
     "end_time": "2021-04-03T08:08:33.249499",
     "exception": false,
     "start_time": "2021-04-03T08:08:31.985949",
     "status": "completed"
    },
    "tags": []
   },
   "outputs": [],
   "source": [
    "rescaled_test=scaler.inverse_transform(Y_Test.reshape(-1,1))"
   ]
  },
  {
   "cell_type": "code",
   "execution_count": 26,
   "id": "revolutionary-neighborhood",
   "metadata": {
    "execution": {
     "iopub.execute_input": "2021-04-03T08:08:35.731310Z",
     "iopub.status.busy": "2021-04-03T08:08:35.730586Z",
     "iopub.status.idle": "2021-04-03T08:08:35.733589Z",
     "shell.execute_reply": "2021-04-03T08:08:35.734012Z"
    },
    "papermill": {
     "duration": 1.237145,
     "end_time": "2021-04-03T08:08:35.734147",
     "exception": false,
     "start_time": "2021-04-03T08:08:34.497002",
     "status": "completed"
    },
    "tags": []
   },
   "outputs": [
    {
     "data": {
      "text/plain": [
       "array([[18508.],\n",
       "       [18600.],\n",
       "       [18571.],\n",
       "       [18686.],\n",
       "       [18912.],\n",
       "       [19214.],\n",
       "       [19585.],\n",
       "       [19886.],\n",
       "       [19933.],\n",
       "       [19847.],\n",
       "       [19710.],\n",
       "       [19453.],\n",
       "       [19049.],\n",
       "       [18737.],\n",
       "       [18619.],\n",
       "       [18691.],\n",
       "       [19109.],\n",
       "       [20279.],\n",
       "       [20925.],\n",
       "       [21089.],\n",
       "       [20999.],\n",
       "       [20820.],\n",
       "       [20415.],\n",
       "       [19993.]])"
      ]
     },
     "execution_count": 26,
     "metadata": {},
     "output_type": "execute_result"
    }
   ],
   "source": [
    "rescaled_test"
   ]
  },
  {
   "cell_type": "code",
   "execution_count": 27,
   "id": "everyday-protest",
   "metadata": {
    "execution": {
     "iopub.execute_input": "2021-04-03T08:08:38.203236Z",
     "iopub.status.busy": "2021-04-03T08:08:38.202430Z",
     "iopub.status.idle": "2021-04-03T08:08:38.375009Z",
     "shell.execute_reply": "2021-04-03T08:08:38.375423Z"
    },
    "papermill": {
     "duration": 1.40577,
     "end_time": "2021-04-03T08:08:38.375577",
     "exception": false,
     "start_time": "2021-04-03T08:08:36.969807",
     "status": "completed"
    },
    "tags": []
   },
   "outputs": [
    {
     "data": {
      "image/png": "[encoded data removed]",
      "text/plain": [
       "<Figure size 432x288 with 1 Axes>"
      ]
     },
     "metadata": {},
     "output_type": "display_data"
    }
   ],
   "source": [
    "#plotpred\n",
    "\n",
    "\n",
    "sns.set_style(\"darkgrid\")\n",
    "\n",
    "plt.plot(np.arange(0,24),rescaled)\n",
    "plt.show()"
   ]
  },
  {
   "cell_type": "code",
   "execution_count": 28,
   "id": "brief-projector",
   "metadata": {
    "execution": {
     "iopub.execute_input": "2021-04-03T08:08:40.940608Z",
     "iopub.status.busy": "2021-04-03T08:08:40.939714Z",
     "iopub.status.idle": "2021-04-03T08:08:41.074260Z",
     "shell.execute_reply": "2021-04-03T08:08:41.074872Z"
    },
    "papermill": {
     "duration": 1.392401,
     "end_time": "2021-04-03T08:08:41.075046",
     "exception": false,
     "start_time": "2021-04-03T08:08:39.682645",
     "status": "completed"
    },
    "tags": []
   },
   "outputs": [
    {
     "data": {
      "image/png": "[encoded data removed]",
      "text/plain": [
       "<Figure size 432x288 with 1 Axes>"
      ]
     },
     "metadata": {},
     "output_type": "display_data"
    }
   ],
   "source": [
    "#plotactual\n",
    "sns.set_style(\"darkgrid\")\n",
    "\n",
    "plt.plot(np.arange(0,24),rescaled_test)\n",
    "plt.show()\n"
   ]
  },
  {
   "cell_type": "code",
   "execution_count": 29,
   "id": "hawaiian-mirror",
   "metadata": {
    "execution": {
     "iopub.execute_input": "2021-04-03T08:08:44.378256Z",
     "iopub.status.busy": "2021-04-03T08:08:44.377424Z",
     "iopub.status.idle": "2021-04-03T08:08:44.532059Z",
     "shell.execute_reply": "2021-04-03T08:08:44.532480Z"
    },
    "papermill": {
     "duration": 1.407042,
     "end_time": "2021-04-03T08:08:44.532624",
     "exception": false,
     "start_time": "2021-04-03T08:08:43.125582",
     "status": "completed"
    },
    "tags": []
   },
   "outputs": [
    {
     "data": {
      "image/png": "[encoded data removed]",
      "text/plain": [
       "<Figure size 432x288 with 1 Axes>"
      ]
     },
     "metadata": {},
     "output_type": "display_data"
    }
   ],
   "source": [
    "sns.set_style(\"darkgrid\")\n",
    "\n",
    "#original-blue\n",
    "plt.plot(np.arange(0,24),rescaled_test)\n",
    "#predicted-red\n",
    "plt.plot(np.arange(0,24),rescaled,color=\"red\")\n",
    "\n",
    "\n",
    "plt.show()"
   ]
  },
  {
   "cell_type": "code",
   "execution_count": null,
   "id": "virgin-pharmaceutical",
   "metadata": {
    "papermill": {
     "duration": 1.266921,
     "end_time": "2021-04-03T08:08:47.035065",
     "exception": false,
     "start_time": "2021-04-03T08:08:45.768144",
     "status": "completed"
    },
    "tags": []
   },
   "outputs": [],
   "source": []
  }
 ],
 "metadata": {
  "kernelspec": {
   "display_name": "Python 3",
   "language": "python",
   "name": "python3"
  },
  "language_info": {
   "codemirror_mode": {
    "name": "ipython",
    "version": 3
   },
   "file_extension": ".py",
   "mimetype": "text/x-python",
   "name": "python",
   "nbconvert_exporter": "python",
   "pygments_lexer": "ipython3",
   "version": "3.7.9"
  },
  "papermill": {
   "default_parameters": {},
   "duration": 745.341641,
   "end_time": "2021-04-03T08:08:51.250662",
   "environment_variables": {},
   "exception": null,
   "input_path": "__notebook__.ipynb",
   "output_path": "__notebook__.ipynb",
   "parameters": {},
   "start_time": "2021-04-03T07:56:25.909021",
   "version": "2.3.2"
  }
 },
 "nbformat": 4,
 "nbformat_minor": 5
}
